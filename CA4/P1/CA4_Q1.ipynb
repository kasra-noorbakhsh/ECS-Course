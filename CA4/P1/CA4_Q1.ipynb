{
 "cells": [
  {
   "cell_type": "markdown",
   "id": "684516b2",
   "metadata": {},
   "source": [
    "# CA4 - Question 1"
   ]
  },
  {
   "cell_type": "code",
   "execution_count": null,
   "id": "3cc688d5",
   "metadata": {},
   "outputs": [],
   "source": [
    "import re\n",
    "\n",
    "class ValidatorMeta(type):\n",
    "    def __new__(cls, name, bases, dct):\n",
    "        \n",
    "        validation_rules = {\n",
    "            #TO DO\n",
    "        }\n",
    "\n",
    "        \n",
    "        custom_error_messages = {\n",
    "            'email': 'Email must have a valid format and end with .com or .org.',\n",
    "            'phone_number': 'Phone number must start with +98 and be followed by 8 digits.',\n",
    "            'password': 'Password must be between 8 and 12 characters and include at least one uppercase letter, one lowercase letter, one number, and one special character (*, @, %, !).',\n",
    "            'product_code': 'Product code must consist of 2 uppercase letters, 2 to 4 digits, an optional lowercase letter, and an optional version number (v1-v99).',\n",
    "            'stop_word': 'The word \"Stop\" or \"stop\" must be separate and not part of a larger word or attached to punctuation.',\n",
    "            'repeated_phrase': 'The phrase \"some students\" or \"many employees\" must repeat exactly, with no different terms in between.',\n",
    "            'date': 'Date must be in YYYY/MM/DD format, with valid month and day values.',\n",
    "            'quotation': 'Text must be enclosed in balanced single or double quotes and contain only letters, numbers, and spaces.',\n",
    "            'parenthesis': 'Parentheses must be balanced with no unmatched opening or closing parentheses.',\n",
    "        }\n",
    "\n",
    "        # Method generator for validation functions\n",
    "        def create_validator(field, rule, custom_message):\n",
    "            def validator(self, value):\n",
    "                if not re.match(rule, value):\n",
    "                    raise ValueError(custom_message)\n",
    "                return True\n",
    "            return validator\n",
    "\n",
    "        # Add validation methods to the class dynamically\n",
    "        for field, rule in validation_rules.items():\n",
    "            dct[f'validate_{field}'] = create_validator(field, rule, custom_error_messages.get(field, f\"Invalid {field}\"))\n",
    "\n",
    "        return super().__new__(cls, name, bases, dct)\n",
    "\n",
    "\n",
    "class FormValidator(metaclass=ValidatorMeta):\n",
    "    \"\"\"Concrete validator class with all validation methods\"\"\"\n",
    "    pass\n"
   ]
  },
  {
   "cell_type": "code",
   "execution_count": 3,
   "id": "7ce1f81b",
   "metadata": {},
   "outputs": [],
   "source": [
    "validator = FormValidator()\n",
    "\n",
    "# Test Validation\n",
    "# TO DO\n"
   ]
  }
 ],
 "metadata": {
  "kernelspec": {
   "display_name": "python_310",
   "language": "python",
   "name": "python3"
  },
  "language_info": {
   "codemirror_mode": {
    "name": "ipython",
    "version": 3
   },
   "file_extension": ".py",
   "mimetype": "text/x-python",
   "name": "python",
   "nbconvert_exporter": "python",
   "pygments_lexer": "ipython3",
   "version": "3.10.15"
  }
 },
 "nbformat": 4,
 "nbformat_minor": 5
}
